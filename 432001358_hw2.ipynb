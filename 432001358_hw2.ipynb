{
 "cells": [
  {
   "cell_type": "markdown",
   "metadata": {
    "id": "FUStugfzWud2"
   },
   "source": [
    "## CSCE 676 :: Data Mining and Analysis :: Texas A&M University :: Spring 2022\n",
    "\n",
    "\n",
    "# Homework 2\n",
    "\n",
    "- **100 points [7% of your final grade]**\n",
    "- **Due Sunday, March 6 by 11:59pm** \n",
    "- (*no submissions accepted after March 9 by 11:59pm*)\n",
    "\n",
    "**Goals of this homework:** There are four objectives of this homework: \n",
    "\n",
    "* Become familiar with Apache Spark;\n",
    "* Get hands-on experience using Spark built-in functions like PageRank;\n",
    "* Work out Hubs and Authorities by hand;\n",
    "* Try some LSH problems.\n",
    "\n",
    "*Submission instructions:* You should post your notebook to canvas (look for the homework 2 assignment there). Name your submission **your-uin_hw2.ipynb**, so for example, my submission would be something like **555001234_hw2.ipynb**. Your notebook should be fully executed when you submit ... so run all the cells for us so we can see the output, then submit that. When you are done, download your notebook from colab and submit it to canvas.\n",
    "\n",
    "*Collaboration declaration:* If you worked with someone on this homework, please be sure to mention that. Remember to include citations to any sources you use in the homework."
   ]
  },
  {
   "cell_type": "markdown",
   "metadata": {
    "id": "eql4ThhZt5lL"
   },
   "source": [
    "*Write your collaboration/references here*"
   ]
  },
  {
   "cell_type": "markdown",
   "metadata": {
    "id": "3AQt_pCoWueB"
   },
   "source": [
    "## Preliminaries: Introduction to the Dataset\n",
    "We will use a dataset of tweets concerning members of the US congress. The data spans almost a year (from October 3rd, 2018 to September 25th, 2019) covering 576 of the members. Any tweet or retweet posted by the 576 members or directed to them by other Twitter users were collected.\n",
    "\n",
    "Originally there were more than 200 million tweets collected but we have sampled 400,000 tweets for this homework.\n",
    "\n",
    "Below is a summary of all datasets used for this homework:\n",
    "\n",
    "| Dataset                        | Description |\n",
    "| :---                                                       | :---\n",
    "| Congress members               | 576 twitter ids and screen names |\n",
    "| Sample tweets                  |400k sample tweets|\n",
    "| ~~User hashtags~~                  | ~~all pairs of <user, hashtag>~~|\n",
    "| User mentions                  | all pairs of <src_user_id, src_dest_id, frequency> |\n",
    "\n"
   ]
  },
  {
   "cell_type": "markdown",
   "metadata": {
    "id": "tQ8cZb5cg5Im"
   },
   "source": [
    "Following are the steps that you need to execute to install spark. Remember you need to execute them everytime after your runtime is disconnected"
   ]
  },
  {
   "cell_type": "code",
   "execution_count": 1,
   "metadata": {
    "colab": {
     "base_uri": "https://localhost:8080/"
    },
    "id": "3xiQ6bMbXITQ",
    "outputId": "6258c474-89f4-49d1-e3e5-32e18d067dd1"
   },
   "outputs": [
    {
     "name": "stdout",
     "output_type": "stream",
     "text": [
      "Collecting pyspark\n",
      "  Downloading pyspark-3.2.1.tar.gz (281.4 MB)\n",
      "\u001b[K     |████████████████████████████████| 281.4 MB 37 kB/s \n",
      "\u001b[?25hCollecting py4j==0.10.9.3\n",
      "  Downloading py4j-0.10.9.3-py2.py3-none-any.whl (198 kB)\n",
      "\u001b[K     |████████████████████████████████| 198 kB 41.7 MB/s \n",
      "\u001b[?25hBuilding wheels for collected packages: pyspark\n",
      "  Building wheel for pyspark (setup.py) ... \u001b[?25l\u001b[?25hdone\n",
      "  Created wheel for pyspark: filename=pyspark-3.2.1-py2.py3-none-any.whl size=281853642 sha256=f48acc192cae567f83d4eaa279bf1ca96515f284af35e1756542e1bc973492d0\n",
      "  Stored in directory: /root/.cache/pip/wheels/9f/f5/07/7cd8017084dce4e93e84e92efd1e1d5334db05f2e83bcef74f\n",
      "Successfully built pyspark\n",
      "Installing collected packages: py4j, pyspark\n",
      "Successfully installed py4j-0.10.9.3 pyspark-3.2.1\n",
      "Collecting graphframes\n",
      "  Downloading graphframes-0.6-py2.py3-none-any.whl (18 kB)\n",
      "Collecting nose\n",
      "  Downloading nose-1.3.7-py3-none-any.whl (154 kB)\n",
      "\u001b[K     |████████████████████████████████| 154 kB 5.0 MB/s \n",
      "\u001b[?25hRequirement already satisfied: numpy in /usr/local/lib/python3.7/dist-packages (from graphframes) (1.21.5)\n",
      "Installing collected packages: nose, graphframes\n",
      "Successfully installed graphframes-0.6 nose-1.3.7\n",
      "The following package was automatically installed and is no longer required:\n",
      "  libnvidia-common-470\n",
      "Use 'apt autoremove' to remove it.\n",
      "The following additional packages will be installed:\n",
      "  openjdk-8-jre-headless\n",
      "Suggested packages:\n",
      "  openjdk-8-demo openjdk-8-source libnss-mdns fonts-dejavu-extra\n",
      "  fonts-ipafont-gothic fonts-ipafont-mincho fonts-wqy-microhei\n",
      "  fonts-wqy-zenhei fonts-indic\n",
      "The following NEW packages will be installed:\n",
      "  openjdk-8-jdk-headless openjdk-8-jre-headless\n",
      "0 upgraded, 2 newly installed, 0 to remove and 39 not upgraded.\n",
      "Need to get 36.5 MB of archives.\n",
      "After this operation, 143 MB of additional disk space will be used.\n",
      "Selecting previously unselected package openjdk-8-jre-headless:amd64.\n",
      "(Reading database ... 155320 files and directories currently installed.)\n",
      "Preparing to unpack .../openjdk-8-jre-headless_8u312-b07-0ubuntu1~18.04_amd64.deb ...\n",
      "Unpacking openjdk-8-jre-headless:amd64 (8u312-b07-0ubuntu1~18.04) ...\n",
      "Selecting previously unselected package openjdk-8-jdk-headless:amd64.\n",
      "Preparing to unpack .../openjdk-8-jdk-headless_8u312-b07-0ubuntu1~18.04_amd64.deb ...\n",
      "Unpacking openjdk-8-jdk-headless:amd64 (8u312-b07-0ubuntu1~18.04) ...\n",
      "Setting up openjdk-8-jre-headless:amd64 (8u312-b07-0ubuntu1~18.04) ...\n",
      "update-alternatives: using /usr/lib/jvm/java-8-openjdk-amd64/jre/bin/orbd to provide /usr/bin/orbd (orbd) in auto mode\n",
      "update-alternatives: using /usr/lib/jvm/java-8-openjdk-amd64/jre/bin/servertool to provide /usr/bin/servertool (servertool) in auto mode\n",
      "update-alternatives: using /usr/lib/jvm/java-8-openjdk-amd64/jre/bin/tnameserv to provide /usr/bin/tnameserv (tnameserv) in auto mode\n",
      "Setting up openjdk-8-jdk-headless:amd64 (8u312-b07-0ubuntu1~18.04) ...\n",
      "update-alternatives: using /usr/lib/jvm/java-8-openjdk-amd64/bin/idlj to provide /usr/bin/idlj (idlj) in auto mode\n",
      "update-alternatives: using /usr/lib/jvm/java-8-openjdk-amd64/bin/wsimport to provide /usr/bin/wsimport (wsimport) in auto mode\n",
      "update-alternatives: using /usr/lib/jvm/java-8-openjdk-amd64/bin/jsadebugd to provide /usr/bin/jsadebugd (jsadebugd) in auto mode\n",
      "update-alternatives: using /usr/lib/jvm/java-8-openjdk-amd64/bin/native2ascii to provide /usr/bin/native2ascii (native2ascii) in auto mode\n",
      "update-alternatives: using /usr/lib/jvm/java-8-openjdk-amd64/bin/javah to provide /usr/bin/javah (javah) in auto mode\n",
      "update-alternatives: using /usr/lib/jvm/java-8-openjdk-amd64/bin/hsdb to provide /usr/bin/hsdb (hsdb) in auto mode\n",
      "update-alternatives: using /usr/lib/jvm/java-8-openjdk-amd64/bin/clhsdb to provide /usr/bin/clhsdb (clhsdb) in auto mode\n",
      "update-alternatives: using /usr/lib/jvm/java-8-openjdk-amd64/bin/xjc to provide /usr/bin/xjc (xjc) in auto mode\n",
      "update-alternatives: using /usr/lib/jvm/java-8-openjdk-amd64/bin/schemagen to provide /usr/bin/schemagen (schemagen) in auto mode\n",
      "update-alternatives: using /usr/lib/jvm/java-8-openjdk-amd64/bin/extcheck to provide /usr/bin/extcheck (extcheck) in auto mode\n",
      "update-alternatives: using /usr/lib/jvm/java-8-openjdk-amd64/bin/jhat to provide /usr/bin/jhat (jhat) in auto mode\n",
      "update-alternatives: using /usr/lib/jvm/java-8-openjdk-amd64/bin/wsgen to provide /usr/bin/wsgen (wsgen) in auto mode\n",
      "  % Total    % Received % Xferd  Average Speed   Time    Time     Time  Current\n",
      "                                 Dload  Upload   Total   Spent    Left  Speed\n",
      "100  242k  100  242k    0     0   910k      0 --:--:-- --:--:-- --:--:--  907k\n"
     ]
    }
   ],
   "source": [
    "!pip install pyspark\n",
    "!pip install graphframes\n",
    "!pip install -U -q PyDrive\n",
    "!apt install openjdk-8-jdk-headless -qq\n",
    "!curl -L -o \"/usr/local/lib/python3.7/dist-packages/pyspark/jars/graphframes-0.8.1-spark3.0-s_2.12.jar\" https://repos.spark-packages.org/graphframes/graphframes/0.8.1-spark3.0-s_2.12/graphframes-0.8.1-spark3.0-s_2.12.jar\n",
    "import os\n",
    "os.environ[\"JAVA_HOME\"] = \"/usr/lib/jvm/java-8-openjdk-amd64\""
   ]
  },
  {
   "cell_type": "markdown",
   "metadata": {
    "id": "LHtukwBPl9Nv"
   },
   "source": [
    "The cell below will download the dataset from S3 to us-congress-tweets directory"
   ]
  },
  {
   "cell_type": "code",
   "execution_count": 2,
   "metadata": {
    "colab": {
     "base_uri": "https://localhost:8080/"
    },
    "id": "AWGZu0fZ5Yv9",
    "outputId": "e81a1cf3-4fd9-46ea-8fa3-0ef91c24c348"
   },
   "outputs": [
    {
     "name": "stdout",
     "output_type": "stream",
     "text": [
      "--2022-03-07 05:17:34--  https://us-congress.s3.amazonaws.com/congress_members.csv\n",
      "Resolving us-congress.s3.amazonaws.com (us-congress.s3.amazonaws.com)... 54.231.195.233\n",
      "Connecting to us-congress.s3.amazonaws.com (us-congress.s3.amazonaws.com)|54.231.195.233|:443... connected.\n",
      "HTTP request sent, awaiting response... 200 OK\n",
      "Length: 13835 (14K) [text/csv]\n",
      "Saving to: ‘us-congress-tweets/congress_members.csv’\n",
      "\n",
      "\r",
      "          us-congre   0%[                    ]       0  --.-KB/s               \r",
      "us-congress-tweets/ 100%[===================>]  13.51K  --.-KB/s    in 0s      \n",
      "\n",
      "2022-03-07 05:17:34 (51.7 MB/s) - ‘us-congress-tweets/congress_members.csv’ saved [13835/13835]\n",
      "\n",
      "--2022-03-07 05:17:34--  https://us-congress.s3.amazonaws.com/tweets-sample-400k.json\n",
      "Resolving us-congress.s3.amazonaws.com (us-congress.s3.amazonaws.com)... 54.231.195.233\n",
      "Connecting to us-congress.s3.amazonaws.com (us-congress.s3.amazonaws.com)|54.231.195.233|:443... connected.\n",
      "HTTP request sent, awaiting response... 200 OK\n",
      "Length: 202495914 (193M) [application/json]\n",
      "Saving to: ‘us-congress-tweets/tweets-sample-400k.json’\n",
      "\n",
      "us-congress-tweets/ 100%[===================>] 193.11M  94.1MB/s    in 2.1s    \n",
      "\n",
      "2022-03-07 05:17:37 (94.1 MB/s) - ‘us-congress-tweets/tweets-sample-400k.json’ saved [202495914/202495914]\n",
      "\n",
      "--2022-03-07 05:17:37--  https://us-congress.s3.amazonaws.com/user_hashtags-1m.csv\n",
      "Resolving us-congress.s3.amazonaws.com (us-congress.s3.amazonaws.com)... 52.217.160.121\n",
      "Connecting to us-congress.s3.amazonaws.com (us-congress.s3.amazonaws.com)|52.217.160.121|:443... connected.\n",
      "HTTP request sent, awaiting response... 200 OK\n",
      "Length: 25248825 (24M) [text/csv]\n",
      "Saving to: ‘us-congress-tweets/user_hashtags-1m.csv’\n",
      "\n",
      "us-congress-tweets/ 100%[===================>]  24.08M  66.5MB/s    in 0.4s    \n",
      "\n",
      "2022-03-07 05:17:37 (66.5 MB/s) - ‘us-congress-tweets/user_hashtags-1m.csv’ saved [25248825/25248825]\n",
      "\n",
      "--2022-03-07 05:17:37--  https://us-congress.s3.amazonaws.com/user_mentions.csv\n",
      "Resolving us-congress.s3.amazonaws.com (us-congress.s3.amazonaws.com)... 52.217.160.121\n",
      "Connecting to us-congress.s3.amazonaws.com (us-congress.s3.amazonaws.com)|52.217.160.121|:443... connected.\n",
      "HTTP request sent, awaiting response... 200 OK\n",
      "Length: 56151953 (54M) [text/csv]\n",
      "Saving to: ‘us-congress-tweets/user_mentions.csv’\n",
      "\n",
      "us-congress-tweets/ 100%[===================>]  53.55M  83.9MB/s    in 0.6s    \n",
      "\n",
      "2022-03-07 05:17:38 (83.9 MB/s) - ‘us-congress-tweets/user_mentions.csv’ saved [56151953/56151953]\n",
      "\n"
     ]
    }
   ],
   "source": [
    "!mkdir us-congress-tweets\n",
    "!wget https://us-congress.s3.amazonaws.com/congress_members.csv -O us-congress-tweets/congress_members.csv\n",
    "!wget https://us-congress.s3.amazonaws.com/tweets-sample-400k.json -O us-congress-tweets/tweets-sample-400k.json\n",
    "!wget https://us-congress.s3.amazonaws.com/user_hashtags-1m.csv -O us-congress-tweets/user_hashtags-1m.csv\n",
    "!wget https://us-congress.s3.amazonaws.com/user_mentions.csv -O us-congress-tweets/user_mentions.csv"
   ]
  },
  {
   "cell_type": "code",
   "execution_count": 3,
   "metadata": {
    "id": "bWOQNZBaXPgs"
   },
   "outputs": [],
   "source": [
    "import pandas as pd\n",
    "import numpy as np\n",
    "import matplotlib.pyplot as plt\n",
    "%matplotlib inline\n",
    "\n",
    "import pyspark\n",
    "from pyspark.sql import *\n",
    "from pyspark.sql.types import *\n",
    "from pyspark import SparkContext, SparkConf"
   ]
  },
  {
   "cell_type": "code",
   "execution_count": 4,
   "metadata": {
    "id": "FG8qQdgRXViL"
   },
   "outputs": [],
   "source": [
    "# create a Spark session\n",
    "# conf = SparkConf().set(\"spark.ui.port\", \"4050\")\n",
    "\n",
    "conf=conf = SparkConf().conf = SparkConf().set(\"spark.ui.port\", \"4050\").set(\"spark.executor.memory\", \"30g\").set(\"spark.driver.memory\", \"8g\")\n",
    "# create a Spark context\n",
    "sc = pyspark.SparkContext(conf=conf)\n",
    "spark = SparkSession.builder.getOrCreate()\n"
   ]
  },
  {
   "cell_type": "code",
   "execution_count": 5,
   "metadata": {
    "colab": {
     "base_uri": "https://localhost:8080/"
    },
    "id": "h6qAn1XJWueC",
    "outputId": "360934a7-b566-47e9-80cc-f051adcc78f4"
   },
   "outputs": [
    {
     "name": "stdout",
     "output_type": "stream",
     "text": [
      "+------------------+---------------+\n",
      "|            userid|    screen_name|\n",
      "+------------------+---------------+\n",
      "|         776664410|  RepCartwright|\n",
      "|         240363117|   RepTomMarino|\n",
      "|837722935095930883| RepScottTaylor|\n",
      "|        1069124515|     RepLaMalfa|\n",
      "|818460870573441028|  RepTomGarrett|\n",
      "|         163570705|     repcleaver|\n",
      "|          19739126|      GOPLeader|\n",
      "|          33563161| RepJoseSerrano|\n",
      "|        2861616083|USRepGaryPalmer|\n",
      "|        1074518754| SenatorBaldwin|\n",
      "|         305620929|  Call_Me_Dutch|\n",
      "|         381152398| RepTerriSewell|\n",
      "|         834069080| RepDavidRouzer|\n",
      "|         249787913|  SenatorCarper|\n",
      "|         188019606|        Clyburn|\n",
      "|         217543151|SenatorTimScott|\n",
      "|          39249305| USRepMikeDoyle|\n",
      "|          33537967|   amyklobuchar|\n",
      "|         249410485|  SanfordBishop|\n",
      "|          23124635|    TomColeOK04|\n",
      "+------------------+---------------+\n",
      "only showing top 20 rows\n",
      "\n",
      "Number of congress members tracked: 576\n"
     ]
    }
   ],
   "source": [
    "# First let's read Twitter ids and screen names of the 576 US congress members\n",
    "\n",
    "congress_members = spark.read.csv(\"us-congress-tweets/congress_members.csv\", header=True)\n",
    "congress_members.show()\n",
    "print(\"Number of congress members tracked:\", congress_members.count())"
   ]
  },
  {
   "cell_type": "markdown",
   "metadata": {
    "id": "eOfjGbB6WueF"
   },
   "source": [
    "We can use `spark.read.json(...)` without schema to load the tweets into a dataframe but this will be slow for two reasons:\n",
    "* First, it will make one pass over the data to build a schema of the content, then a second pass to read the content and parse it to the dataframe. \n",
    "* It will read all the content of the Tweet JSON objects but we only need few fields for a given task.\n",
    "\n",
    "Thus we define our own schema something like the following:"
   ]
  },
  {
   "cell_type": "code",
   "execution_count": 6,
   "metadata": {
    "id": "JLBnQUluWueG"
   },
   "outputs": [],
   "source": [
    "from pyspark.sql.types import *\n",
    "import pyspark.sql.functions as F\n",
    "twitter_date_format=\"EEE MMM dd HH:mm:ss ZZZZZ yyyy\"\n",
    "\n",
    "user_schema = StructType([\n",
    "    StructField('created_at', TimestampType(), True),\n",
    "    StructField('followers_count', LongType(), True),\n",
    "    StructField('id', LongType(), True),\n",
    "    StructField('name', StringType(), True),\n",
    "    StructField('screen_name', StringType(), True)\n",
    "])\n",
    "\n",
    "hashtag_schema = ArrayType(StructType([StructField('text', StringType(), True)]))\n",
    "user_mentions_schema = ArrayType(StructType([StructField('id', LongType(), True),\n",
    "                                             StructField('screen_name', StringType(), True)]))\n",
    "entities_schema = StructType([\n",
    "    StructField('hashtags', hashtag_schema, True),\n",
    "    StructField('user_mentions', user_mentions_schema, True)\n",
    "    ])\n",
    "\n",
    "retweeted_status_schema =StructType([        \n",
    "        StructField(\"id\", LongType(), True),\n",
    "        StructField(\"in_reply_to_user_id\", LongType(), True),\n",
    "        StructField(\"in_reply_to_status_id\", LongType(), True),\n",
    "        StructField(\"created_at\", TimestampType(), True),\n",
    "        StructField(\"user\", user_schema)\n",
    "    ])\n",
    "\n",
    "tweet_schema =StructType([\n",
    "        StructField(\"text\", StringType(), True),\n",
    "        StructField(\"id\", LongType(), True),\n",
    "        StructField(\"in_reply_to_user_id\", LongType(), True),\n",
    "        StructField(\"in_reply_to_status_id\", LongType(), True),\n",
    "        StructField(\"created_at\", TimestampType(), True),\n",
    "        StructField(\"user\", user_schema),\n",
    "        StructField(\"entities\", entities_schema),\n",
    "        StructField(\"retweeted_status\", retweeted_status_schema)\n",
    "    ])"
   ]
  },
  {
   "cell_type": "markdown",
   "metadata": {
    "id": "i6xAE5NXWueH"
   },
   "source": [
    "Now we are ready to read the tweets with `spark.read.json` passing our own schema as follows:"
   ]
  },
  {
   "cell_type": "code",
   "execution_count": 7,
   "metadata": {
    "colab": {
     "base_uri": "https://localhost:8080/"
    },
    "id": "QZa4FIDAWueH",
    "outputId": "f78ddb1e-c59b-4e33-96a8-d55352192a02"
   },
   "outputs": [
    {
     "name": "stdout",
     "output_type": "stream",
     "text": [
      "root\n",
      " |-- text: string (nullable = true)\n",
      " |-- id: long (nullable = true)\n",
      " |-- in_reply_to_user_id: long (nullable = true)\n",
      " |-- in_reply_to_status_id: long (nullable = true)\n",
      " |-- created_at: timestamp (nullable = true)\n",
      " |-- user: struct (nullable = true)\n",
      " |    |-- created_at: timestamp (nullable = true)\n",
      " |    |-- followers_count: long (nullable = true)\n",
      " |    |-- id: long (nullable = true)\n",
      " |    |-- name: string (nullable = true)\n",
      " |    |-- screen_name: string (nullable = true)\n",
      " |-- entities: struct (nullable = true)\n",
      " |    |-- hashtags: array (nullable = true)\n",
      " |    |    |-- element: struct (containsNull = true)\n",
      " |    |    |    |-- text: string (nullable = true)\n",
      " |    |-- user_mentions: array (nullable = true)\n",
      " |    |    |-- element: struct (containsNull = true)\n",
      " |    |    |    |-- id: long (nullable = true)\n",
      " |    |    |    |-- screen_name: string (nullable = true)\n",
      " |-- retweeted_status: struct (nullable = true)\n",
      " |    |-- id: long (nullable = true)\n",
      " |    |-- in_reply_to_user_id: long (nullable = true)\n",
      " |    |-- in_reply_to_status_id: long (nullable = true)\n",
      " |    |-- created_at: timestamp (nullable = true)\n",
      " |    |-- user: struct (nullable = true)\n",
      " |    |    |-- created_at: timestamp (nullable = true)\n",
      " |    |    |-- followers_count: long (nullable = true)\n",
      " |    |    |-- id: long (nullable = true)\n",
      " |    |    |-- name: string (nullable = true)\n",
      " |    |    |-- screen_name: string (nullable = true)\n",
      " |-- user_id: long (nullable = true)\n",
      "\n"
     ]
    }
   ],
   "source": [
    "tweets = spark.read.option(\"timestampFormat\", twitter_date_format)\\\n",
    "                   .json('us-congress-tweets/tweets-sample-400k.json', tweet_schema)\\\n",
    "                   .withColumn('user_id',F.col('user.id'))\n",
    "tweets.printSchema()"
   ]
  },
  {
   "cell_type": "markdown",
   "metadata": {
    "id": "HyAc0ou-WueI"
   },
   "source": [
    "## (30 points) Part 1: Let's Fire up Spark for Real\n",
    "\n",
    "Okay, now that we've finally got our data loaded, we are ready to get our hands dirty with Spark. As you know, Spark comes with lots of built-in functions and nice capabilities. Indeed, you will find that to answer the problems below, there are **many** possible approaches. Please refer to the Stanford Spark tutorial we posted alongside this homework. Also feel free to Google around for some Spark resources, but we list a few here to get you started:\n",
    "\n",
    "* https://spark.apache.org/docs/latest/sql-ref-functions-builtin.html#aggregate-functions\n",
    "* https://spark.apache.org/docs/latest/sql-getting-started.html#running-sql-queries-programmatically\n"
   ]
  },
  {
   "cell_type": "markdown",
   "metadata": {
    "id": "EFo2xXh1WueI"
   },
   "source": [
    "### Exploratory Data Analysis\n",
    "\n",
    "a) How many unique users are there? "
   ]
  },
  {
   "cell_type": "code",
   "execution_count": 8,
   "metadata": {
    "colab": {
     "base_uri": "https://localhost:8080/"
    },
    "id": "RZJGG4bzWueK",
    "outputId": "ba4cd259-9bc9-4e90-f06d-45b4c2877d51"
   },
   "outputs": [
    {
     "name": "stdout",
     "output_type": "stream",
     "text": [
      "Number of unique users: 198098\n"
     ]
    }
   ],
   "source": [
    "# your code here for unique users\n",
    "\n",
    "# print (tweets.show(5))\n",
    "\n",
    "unique_users=tweets.select('user.id').distinct()\n",
    "\n",
    "print (\"Number of unique users: {}\".format(unique_users.count()))"
   ]
  },
  {
   "cell_type": "markdown",
   "metadata": {
    "id": "zY5_nDCCWueM"
   },
   "source": [
    "b) How many times is the user **GOPLeader** mentioned?\n"
   ]
  },
  {
   "cell_type": "code",
   "execution_count": 10,
   "metadata": {
    "colab": {
     "base_uri": "https://localhost:8080/"
    },
    "id": "YrkN__kuWueM",
    "outputId": "d3887404-3465-497a-bc9c-6575aca8ba70"
   },
   "outputs": [
    {
     "name": "stdout",
     "output_type": "stream",
     "text": [
      "GOPLeader was mentioned: 4728 times\n"
     ]
    }
   ],
   "source": [
    "# code here\n",
    "\n",
    "\n",
    "GOP_Leaders_mentions=tweets.select('id', F.explode('entities.user_mentions.screen_name')).where(\"col=='GOPLeader'\").distinct()\n",
    "print (\"GOPLeader was mentioned: {} times\".format(GOP_Leaders_mentions.count()))"
   ]
  },
  {
   "cell_type": "markdown",
   "metadata": {
    "id": "BIwGhG_OWueN"
   },
   "source": [
    "c) Now find the top-5 most mentioned members of Congress."
   ]
  },
  {
   "cell_type": "code",
   "execution_count": 11,
   "metadata": {
    "colab": {
     "base_uri": "https://localhost:8080/"
    },
    "id": "fztHxTpyWueN",
    "outputId": "a66f7e0a-6dd8-4d84-f0af-2fd679c3963d"
   },
   "outputs": [
    {
     "name": "stdout",
     "output_type": "stream",
     "text": [
      "\n",
      "Top 5 most mentioned members of Congress are as follows: \n",
      "\n",
      "+---------------+---------------+\n",
      "|    screen_name|No. of Mentions|\n",
      "+---------------+---------------+\n",
      "|    NancyPelosi|          16006|\n",
      "|   senatemajldr|          14903|\n",
      "|LindseyGrahamSC|          14251|\n",
      "|     SenSchumer|          13636|\n",
      "|  RepAdamSchiff|          13183|\n",
      "+---------------+---------------+\n",
      "\n"
     ]
    }
   ],
   "source": [
    "# code here\n",
    "\n",
    "# tweets.head(1)\n",
    "\n",
    "\n",
    "screen_names_ids=tweets.select('id',F.explode('entities.user_mentions.id').alias('newId')).distinct()\n",
    "\n",
    "\n",
    "\n",
    "top5screen_ids=screen_names_ids.join(congress_members, congress_members.userid==screen_names_ids.newId,how='inner').groupBy('newId').count()\\\n",
    "                        .sort(F.desc('count')).limit(5)\n",
    "\n",
    "top5screen_names=top5screen_ids.join(congress_members,congress_members.userid==top5screen_ids.newId,how='inner').sort(F.desc('count')).select(\"screen_name\",\"count\")\\\n",
    "                                .withColumnRenamed('count','No. of Mentions')\n",
    "\n",
    "print (\"\\nTop 5 most mentioned members of Congress are as follows: \\n\")\n",
    "\n",
    "top5screen_names.show()"
   ]
  },
  {
   "cell_type": "markdown",
   "metadata": {
    "id": "kGuKUpyqZ2ZF"
   },
   "source": [
    "d) For each month in the dataset, report the top-5 most mentioned users (across all users in the dataset, not just the members of Congress). "
   ]
  },
  {
   "cell_type": "code",
   "execution_count": 46,
   "metadata": {
    "colab": {
     "base_uri": "https://localhost:8080/"
    },
    "id": "cgdYVF2cZ2un",
    "outputId": "25903f8c-521e-43d3-f545-ccc111466d62"
   },
   "outputs": [
    {
     "name": "stdout",
     "output_type": "stream",
     "text": [
      "\n",
      "Top 5 most mentioned users for October month and year 2018:\n",
      "\n",
      "+---------+---------------+---------------+\n",
      "|       id|    screen_name|No. of Mentions|\n",
      "+---------+---------------+---------------+\n",
      "| 19726613| SenatorCollins|           2970|\n",
      "| 16056306|      JeffFlake|           1624|\n",
      "|432895323|LindseyGrahamSC|           1544|\n",
      "| 25073877|realDonaldTrump|           1492|\n",
      "| 18061669|  lisamurkowski|           1424|\n",
      "+---------+---------------+---------------+\n",
      "\n",
      "\n",
      "Top 5 most mentioned users for November month and year 2018:\n",
      "\n",
      "+---------+---------------+---------------+\n",
      "|       id|    screen_name|No. of Mentions|\n",
      "+---------+---------------+---------------+\n",
      "| 25073877|realDonaldTrump|           1788|\n",
      "| 15745368|     marcorubio|           1247|\n",
      "|942156122|    RepSwalwell|           1068|\n",
      "| 15764644|    NancyPelosi|           1030|\n",
      "|432895323|LindseyGrahamSC|            989|\n",
      "+---------+---------------+---------------+\n",
      "\n",
      "\n",
      "Top 5 most mentioned users for December month and year 2018:\n",
      "\n",
      "+----------+---------------+---------------+\n",
      "|        id|    screen_name|No. of Mentions|\n",
      "+----------+---------------+---------------+\n",
      "|  25073877|realDonaldTrump|           1868|\n",
      "|  15764644|    NancyPelosi|           1708|\n",
      "|  17494010|     SenSchumer|           1634|\n",
      "| 432895323|LindseyGrahamSC|            983|\n",
      "|1249982359|   senatemajldr|            634|\n",
      "+----------+---------------+---------------+\n",
      "\n",
      "\n",
      "Top 5 most mentioned users for January month and year 2019:\n",
      "\n",
      "+----------+---------------+---------------+\n",
      "|        id|    screen_name|No. of Mentions|\n",
      "+----------+---------------+---------------+\n",
      "|  25073877|realDonaldTrump|           4113|\n",
      "|  15764644|  SpeakerPelosi|           3741|\n",
      "|  17494010|     SenSchumer|           2781|\n",
      "|1249982359|   senatemajldr|           2557|\n",
      "| 432895323|LindseyGrahamSC|           1797|\n",
      "+----------+---------------+---------------+\n",
      "\n",
      "\n",
      "Top 5 most mentioned users for February month and year 2019:\n",
      "\n",
      "+--------+---------------+---------------+\n",
      "|      id|    screen_name|No. of Mentions|\n",
      "+--------+---------------+---------------+\n",
      "|15745368|     marcorubio|           1872|\n",
      "|25073877|realDonaldTrump|           1795|\n",
      "|29501253|  RepAdamSchiff|           1167|\n",
      "|15764644|  SpeakerPelosi|           1135|\n",
      "|29442313|     SenSanders|           1078|\n",
      "+--------+---------------+---------------+\n",
      "\n",
      "\n",
      "Top 5 most mentioned users for March month and year 2019:\n",
      "\n",
      "+---------+---------------+---------------+\n",
      "|       id|    screen_name|No. of Mentions|\n",
      "+---------+---------------+---------------+\n",
      "| 29501253|  RepAdamSchiff|           2269|\n",
      "| 25073877|realDonaldTrump|           1893|\n",
      "|432895323|LindseyGrahamSC|           1551|\n",
      "| 15745368|     marcorubio|           1474|\n",
      "| 15764644|  SpeakerPelosi|           1114|\n",
      "+---------+---------------+---------------+\n",
      "\n",
      "\n",
      "Top 5 most mentioned users for April month and year 2019:\n",
      "\n",
      "+--------+---------------+---------------+\n",
      "|      id|    screen_name|No. of Mentions|\n",
      "+--------+---------------+---------------+\n",
      "|29501253|  RepAdamSchiff|           1832|\n",
      "|25073877|realDonaldTrump|           1397|\n",
      "|15764644|  SpeakerPelosi|           1196|\n",
      "|17494010|     SenSchumer|            963|\n",
      "|40302336| RepJerryNadler|            920|\n",
      "+--------+---------------+---------------+\n",
      "\n",
      "\n",
      "Top 5 most mentioned users for May month and year 2019:\n",
      "\n",
      "+---------+---------------+---------------+\n",
      "|       id|    screen_name|No. of Mentions|\n",
      "+---------+---------------+---------------+\n",
      "|432895323|LindseyGrahamSC|           1916|\n",
      "| 25073877|realDonaldTrump|           1798|\n",
      "| 15764644|  SpeakerPelosi|           1471|\n",
      "| 29501253|  RepAdamSchiff|           1435|\n",
      "|233842454|    justinamash|           1330|\n",
      "+---------+---------------+---------------+\n",
      "\n",
      "\n",
      "Top 5 most mentioned users for June month and year 2019:\n",
      "\n",
      "+----------+---------------+---------------+\n",
      "|        id|    screen_name|No. of Mentions|\n",
      "+----------+---------------+---------------+\n",
      "|  25073877|realDonaldTrump|           1480|\n",
      "|  17494010|     SenSchumer|           1140|\n",
      "|1249982359|   senatemajldr|           1002|\n",
      "| 432895323|LindseyGrahamSC|            963|\n",
      "|  15764644|  SpeakerPelosi|            901|\n",
      "+----------+---------------+---------------+\n",
      "\n",
      "\n",
      "Top 5 most mentioned users for July month and year 2019:\n",
      "\n",
      "+----------+---------------+---------------+\n",
      "|        id|    screen_name|No. of Mentions|\n",
      "+----------+---------------+---------------+\n",
      "|  25073877|realDonaldTrump|           3569|\n",
      "| 787373558|    RepCummings|           2179|\n",
      "|1249982359|   senatemajldr|           1846|\n",
      "|  15764644|  SpeakerPelosi|           1747|\n",
      "|  17494010|     SenSchumer|           1691|\n",
      "+----------+---------------+---------------+\n",
      "\n",
      "\n",
      "Top 5 most mentioned users for August month and year 2019:\n",
      "\n",
      "+----------+---------------+---------------+\n",
      "|        id|    screen_name|No. of Mentions|\n",
      "+----------+---------------+---------------+\n",
      "|1249982359|   senatemajldr|           2424|\n",
      "|  25073877|realDonaldTrump|           1745|\n",
      "| 432895323|LindseyGrahamSC|            830|\n",
      "|  17494010|     SenSchumer|            747|\n",
      "|  29501253|  RepAdamSchiff|            730|\n",
      "+----------+---------------+---------------+\n",
      "\n",
      "\n",
      "Top 5 most mentioned users for September month and year 2019:\n",
      "\n",
      "+----------+---------------+---------------+\n",
      "|        id|    screen_name|No. of Mentions|\n",
      "+----------+---------------+---------------+\n",
      "|  25073877|realDonaldTrump|           1367|\n",
      "|1249982359|   senatemajldr|           1037|\n",
      "|  15764644|  SpeakerPelosi|            816|\n",
      "|  29501253|  RepAdamSchiff|            717|\n",
      "|  18166778|     Jim_Jordan|            620|\n",
      "+----------+---------------+---------------+\n",
      "\n"
     ]
    }
   ],
   "source": [
    "# code here\n",
    "months=['January','February','March','April','May','June','July','August','September','October','November','December']\n",
    "years=[2018,2019]\n",
    "\n",
    "for yr in years:\n",
    "  for idx,month in enumerate(months):\n",
    "    tweets_filtered=tweets.where(F.year(tweets.created_at) == yr).where(F.month(tweets.created_at) == idx+1)\n",
    "    if tweets_filtered.count()!=0:\n",
    "      screen_names=tweets_filtered.select(F.explode('entities.user_mentions')).select(F.col(\"col.*\")).dropDuplicates(['id'])\n",
    "      screen_ids=tweets_filtered.select('id',F.explode('entities.user_mentions.id').alias('newId'))\n",
    "\n",
    "      distinct_screen_ids=screen_ids.distinct()\n",
    "\n",
    "\n",
    "\n",
    "      top5screen_ids=distinct_screen_ids.groupBy('newId').count().sort(F.desc('count')).limit(5)\n",
    "\n",
    "      top5screen_names=top5screen_ids.join(screen_names, screen_names.id==top5screen_ids.newId,how='inner').sort(F.desc('count')).select(\"id\",\"screen_name\",\"count\")\\\n",
    "                                      .withColumnRenamed('count','No. of Mentions')\n",
    "\n",
    "\n",
    "      print(\"\\nTop 5 most mentioned users for {} month and year {}:\\n\".format(month, yr))\n",
    "      top5screen_names.show()\n",
    "\n"
   ]
  },
  {
   "cell_type": "markdown",
   "metadata": {
    "id": "51iGNYmNaUW1"
   },
   "source": [
    "e) Do you notice anything interesting in your monthly analysis?"
   ]
  },
  {
   "cell_type": "markdown",
   "metadata": {
    "id": "jSYkjX5QaYIf"
   },
   "source": [
    "## ANSWER:\n",
    "\n",
    "Following are my observations:\n",
    "\n",
    "1. The data spans from October 2018 to September 2019. Initially I was showing the top 5 members from January to December but then I re-arranged the output of my code in a chronological order to look more appropriate.\n",
    "\n",
    "2. The twitter screen name \"realDonaldTrump\" belonging to Donald Trump is present in the top 5 lists of all the months indicating he was one of the most mentioned users throughout that period.\n",
    "\n",
    "\n",
    "3. Donald Trump was the President during that time and he was also an active participant in Twitter which can be the reasons why his account is one of the most mentioned Twitter accounts during that period.\n",
    "\n",
    "4. Also, another very interesting fact is that Speaker Nancy Pelosi has 2 different screen names: \"NancyPelosi\" and \"SpeakerPelosi\". So that's why I had to count the number of mentions based on user ids and not user screen names to get the proper counts.\n",
    "\n",
    "5. Since Nancy Pelosi was the speaker during that time period she has also been predominantly one of the most mentioned twitter users during that period with her name arriving in almost all the top 5 lists. She is also the highest mentioned Congress member all throughout the year. \n",
    "\n",
    "6. We can also see that the top 5 names in these months contains names of people from Congress also. Since the dataset provided is a political dataset so we can predominantly see the names of different politicians in these top 5 lists.\n",
    "\n"
   ]
  },
  {
   "cell_type": "markdown",
   "metadata": {
    "id": "Ha2vrLOmWueh"
   },
   "source": [
    "## (25 points) Part 2: PageRank\n",
    "Now let's find out who are the most important users in the dataset by running PageRank over the mentions network. For this problem, we'll define a user-mentions network using relations in `us-congress-tweets/user_mentions.csv`. That is, each user is a node in the graph. If user A mentions user B, then there should be an edge from A to B.\n",
    "\n",
    "Hint:\n",
    "* Take a look at GraphFrames: https://graphframes.github.io/graphframes/docs/_site/user-guide.html\n"
   ]
  },
  {
   "cell_type": "code",
   "execution_count": 47,
   "metadata": {
    "id": "c1HwmZJCWueh"
   },
   "outputs": [],
   "source": [
    "# your network construction code here\n",
    "\n",
    "from graphframes import GraphFrame\n",
    "\n",
    "Edge = spark.read.csv(\"us-congress-tweets/user_mentions.csv\", header=True)\n",
    "\n",
    "Vertex =Edge.select('src').union(Edge.select('dst')).distinct()\n",
    "\n",
    "Vertex=Vertex.withColumnRenamed('src','id')\n",
    "\n",
    "Graph=GraphFrame(Vertex,Edge)\n"
   ]
  },
  {
   "cell_type": "markdown",
   "metadata": {
    "id": "Jg0R72ymwiyK"
   },
   "source": [
    "How many vertices are there in your network? And how many edges?"
   ]
  },
  {
   "cell_type": "code",
   "execution_count": 48,
   "metadata": {
    "colab": {
     "base_uri": "https://localhost:8080/"
    },
    "id": "Z0_aNONPwotS",
    "outputId": "dc137eb4-98bf-4d26-bf73-db799741b965"
   },
   "outputs": [
    {
     "name": "stdout",
     "output_type": "stream",
     "text": [
      "\n",
      "Number of vertices in the Network : 1133350\n",
      "\n",
      "\n",
      "Number of edges in the Network : 2064872\n",
      "\n"
     ]
    }
   ],
   "source": [
    "# your code\n",
    "\n",
    "print(\"\\nNumber of vertices in the Network : {}\\n\".format(Vertex.count()))\n",
    "print(\"\\nNumber of edges in the Network : {}\\n\".format(Edge.count()))"
   ]
  },
  {
   "cell_type": "markdown",
   "metadata": {
    "id": "_WMaKjp5Zlb8"
   },
   "source": [
    "Now you can run PageRank on the constructed network. Feel free to use the implementation provided as part of GraphFrames. Use a reset (or teleportation probability) of 0.15. "
   ]
  },
  {
   "cell_type": "code",
   "execution_count": 50,
   "metadata": {
    "id": "YHgs08vfWuei"
   },
   "outputs": [],
   "source": [
    "# your PageRank code here (should be pretty short since you're just calling a function)\n",
    "\n",
    "ranks=Graph.pageRank(resetProbability=0.15, maxIter=50)"
   ]
  },
  {
   "cell_type": "markdown",
   "metadata": {
    "id": "XeWYZx8RZz9n"
   },
   "source": [
    "OK, let's see what we found. List the top-10 users based on the PageRank values calculated above."
   ]
  },
  {
   "cell_type": "code",
   "execution_count": 51,
   "metadata": {
    "colab": {
     "base_uri": "https://localhost:8080/"
    },
    "id": "SMtXqwdDcS0V",
    "outputId": "21141af7-389b-4819-8cb9-d7f80a811629"
   },
   "outputs": [
    {
     "name": "stdout",
     "output_type": "stream",
     "text": [
      "\n",
      "Top 10 accounts based on the PageRank Method\n",
      "\n",
      "+------------------+-----------------+\n",
      "|                id|         pagerank|\n",
      "+------------------+-----------------+\n",
      "|          25073877|6811.718772478222|\n",
      "|         240393970|6209.618424497606|\n",
      "|          15764644|  5192.2310442816|\n",
      "|        1249982359| 5155.75735000095|\n",
      "|822215679726100480|5096.853886150923|\n",
      "|          29442313|4690.872058865101|\n",
      "|          15745368|4422.107161298183|\n",
      "|         242555999|4333.291501736539|\n",
      "|          17494010|4293.070958742832|\n",
      "|         242426145|4275.494968860531|\n",
      "+------------------+-----------------+\n",
      "\n"
     ]
    }
   ],
   "source": [
    "# Top 10 accounts \n",
    "\n",
    "print(\"\\nTop 10 accounts based on the PageRank Method\\n\")\n",
    "top10=ranks.vertices.sort(F.desc('pagerank')).limit(10)\n",
    "top10.show()"
   ]
  },
  {
   "cell_type": "code",
   "execution_count": 57,
   "metadata": {
    "colab": {
     "base_uri": "https://localhost:8080/"
    },
    "id": "7BRQjn_RHHtz",
    "outputId": "54be17a4-174c-4095-c251-4f56f0be25cb"
   },
   "outputs": [
    {
     "name": "stdout",
     "output_type": "stream",
     "text": [
      "+------------------+-----------------+---------------+\n",
      "|                id|         pagerank|    screen_name|\n",
      "+------------------+-----------------+---------------+\n",
      "|          25073877|6811.718772478222|realDonaldTrump|\n",
      "|         240393970|6209.618424497606|  RepJeffDuncan|\n",
      "|          15764644|  5192.2310442816|    NancyPelosi|\n",
      "|        1249982359| 5155.75735000095|   senatemajldr|\n",
      "|822215679726100480|5096.853886150923|          POTUS|\n",
      "|          29442313|4690.872058865101|     SenSanders|\n",
      "|          15745368|4422.107161298183|     marcorubio|\n",
      "|         242555999|4333.291501736539|  SenWhitehouse|\n",
      "|          17494010|4293.070958742832|     SenSchumer|\n",
      "|         242426145|4275.494968860531|    RepMcGovern|\n",
      "+------------------+-----------------+---------------+\n",
      "\n"
     ]
    }
   ],
   "source": [
    "screen_names=tweets.select(F.explode('entities.user_mentions')).select(F.col(\"col.*\")).dropDuplicates(['id']).withColumnRenamed('id','newID')\n",
    "top10screen_names=top10.join(screen_names, screen_names.newID==top10.id,how='inner').sort(F.desc('pagerank')).drop('newID')\n",
    "\n",
    "top10screen_names.show()"
   ]
  },
  {
   "cell_type": "markdown",
   "metadata": {
    "id": "ncgKxQak2ysO"
   },
   "source": [
    "The account id and screen_names of top 10 users based on PageRank are displayed as shown above."
   ]
  },
  {
   "cell_type": "markdown",
   "metadata": {
    "id": "ZuX2j4A-aFvz"
   },
   "source": [
    "What do you observe? are the top 10 users congress members? are there outsiders?\n",
    "\n",
    "Hint: You can use https://twitter.com/intent/user?user_id=? to find out more info about the users"
   ]
  },
  {
   "cell_type": "markdown",
   "metadata": {
    "id": "DN7PbajvzOea"
   },
   "source": [
    "### ANSWER:\n",
    "\n",
    "These twitter ids maps to the following accounts:\n",
    "\n",
    "1. https://twitter.com/intent/user?user_id=25073877 => Belonged to Donald Trump but does not exist anymore\n",
    "\n",
    "2. https://twitter.com/intent/user?user_id=240393970 => Rep. Jeff Duncan\n",
    "\n",
    "3. https://twitter.com/intent/user?user_id=15764644 => Nancy Pelosi\n",
    "\n",
    "4. https://twitter.com/intent/user?user_id=1249982359 => Leader McConnell\n",
    "\n",
    "5. https://twitter.com/intent/user?user_id=822215679726100480 => President Trump 45 Archived\n",
    "\n",
    "6. https://twitter.com/intent/user?user_id=29442313 => Bernie Sanders\n",
    "\n",
    "7. https://twitter.com/intent/user?user_id=15745368 => Marco Rubio\n",
    "\n",
    "8. https://twitter.com/intent/user?user_id=242555999 => Sheldon Whitehouse\n",
    "\n",
    "9. https://twitter.com/intent/user?user_id=17494010 => Chuck Schumer\n",
    "\n",
    "10. https://twitter.com/intent/user?user_id=242426145 => Rep. Jim McGovern\n",
    "\n",
    "\n",
    "Following are my observations from the above data:\n",
    "\n",
    "1. The top most account is that of Donald Trump which doesn't exist anymore\n",
    "\n",
    "2. Other than the account of Donald Trump and the account of 'President Trump 45 Archived', the other accounts are mostly of the Congress Members\n",
    "\n",
    "3. After a certain value of maxIter in the function Graph.pageRank the top 10 users output from the PageRank algorithm stay the same.\n",
    "\n",
    "4. These results also indicate that Donald Trump was the most mentioned user around that time period.\n",
    "\n",
    "5. Nancy Pelosi also appears in the top 10 list which is obvious as she was the House speaker at that time and was very influential and active on Twitter\n",
    "\n",
    "6. POTUS45 or the account 'President Trump 45 Archived' also appears in the Top 10 list. This was the official account of the 45th President of the United States and the results indicate that people have also interacted a lot with\n",
    "this account.\n",
    "\n",
    "7. From these results we can also see that other prominent political figures such as Bernie Sanders, Leader McConnell etc. were also very active on Twitter.\n"
   ]
  },
  {
   "cell_type": "markdown",
   "metadata": {
    "id": "NUcdJqltBYyf"
   },
   "source": [
    "## (5 points) Bonus Question (Optional)\n",
    "Until now you have explored different aspects of Spark to investigate tweets by the US Congress. For this (optional) bonus problem, please conduct your own investigation of the data. You can use any combinations of the data files to carry out your investigation. You may use any libraries in Spark that you like, but you must use Spark. Tell us what question motivates you, what you did, what you discovered, and why it is interesting. This is completely open-ended, but we are looking for compelling questions and insights. Good luck!\n",
    "\n"
   ]
  },
  {
   "cell_type": "markdown",
   "metadata": {
    "id": "w0DTKHMRDlkt"
   },
   "source": [
    "Feel free to add any number of code/text cells here for your answer!\n"
   ]
  },
  {
   "cell_type": "markdown",
   "metadata": {
    "id": "gaqVeFGWMgWR"
   },
   "source": [
    "### ANSWER:\n",
    "\n",
    "For this question I would like to investigate what the users mostly talked about during this period. For that we can use the hashtags from the given dataset and figure out the hashtags that has the top counts. This will give us an idea of what were the most discussed topics during that time period.\n",
    "\n"
   ]
  },
  {
   "cell_type": "code",
   "execution_count": 58,
   "metadata": {
    "colab": {
     "base_uri": "https://localhost:8080/"
    },
    "id": "uK7_5Q-4Djg1",
    "outputId": "e6c372a1-5b64-4dcb-cafa-fadd24f66447"
   },
   "outputs": [
    {
     "name": "stdout",
     "output_type": "stream",
     "text": [
      "+-------------+-----+\n",
      "|     Hashtags|count|\n",
      "+-------------+-----+\n",
      "|    venezuela| 1275|\n",
      "|  moscowmitch|  953|\n",
      "|trumpshutdown|  753|\n",
      "|         maga|  575|\n",
      "|muellerreport|  400|\n",
      "|        trump|  398|\n",
      "| buildthewall|  365|\n",
      "|  nancypelosi|  362|\n",
      "| maduroregime|  354|\n",
      "|    kavanaugh|  307|\n",
      "| greennewdeal|  303|\n",
      "|     breaking|  289|\n",
      "| forthepeople|  229|\n",
      "|       maduro|  228|\n",
      "|    democrats|  223|\n",
      "|    transport|  218|\n",
      "|      mueller|  184|\n",
      "|          gop|  183|\n",
      "| dowhatwesaid|  179|\n",
      "|         sotu|  178|\n",
      "|          hr1|  169|\n",
      "|  wethepeople|  159|\n",
      "|      florida|  155|\n",
      "|        qanon|  152|\n",
      "| americafirst|  151|\n",
      "+-------------+-----+\n",
      "only showing top 25 rows\n",
      "\n"
     ]
    }
   ],
   "source": [
    "tweets.select('id',F.explode('entities.hashtags')).select('id',F.col(\"col.*\")).distinct()\\\n",
    "        .groupby(F.lower('Text')).count().sort(F.col('count').desc())\\\n",
    "          .withColumnRenamed('lower(Text)','Hashtags').select('Hashtags','count').show(25)"
   ]
  },
  {
   "cell_type": "markdown",
   "metadata": {
    "id": "V2DORaI4uQkf"
   },
   "source": [
    "Some of the topics most discussed by the particular users of Twitter in the given dataset are shown above:\n",
    "\n",
    "1. The most used hashtag is that of 'venezuela'. During the 2018-2019 timeframe people were discussing about the ongoing crisis in Venezuela due to rise in inflation, crime, economic decline, shortage of power, food, medicine and other essential supplies in the country. So that's why the hashtag 'venezuela' had appeared on the top of this list.\n",
    "\n",
    "2. Second most trending hashtag is that of 'moscowmitch' because there were certain political allegations against Leader McConnell and people were discussing a lot about it during that time period.\n",
    "\n",
    "3. The United States federal government had shutdown from December 22, 2018, till January 25, 2019 and this was the longest US government shutdown in history. Hence the hashtag 'trumpshutdown' was trending during that period.\n",
    "\n",
    "4. Some of the other hashtags on top are that of 'trump' and 'buildthewall' which refers to Donald Trump's attempts to build a wall along the Mexico–U.S. border and donation campaigns for such efforts.\n",
    "\n",
    "\n",
    "By doing this kind of analysis on the hashtags of Twitter Data, Data Analysts can figure out what are the most discussed topics amongst the general public. This data can be used in various ways such as, prediction of voting results, prediction of the percentage of support for a certain party, general thoughts of people about different parties. This data can also be used by politicians to figure out strategies to please the general public and in gaining more confidence amongst them.\n",
    "\n",
    "\n",
    "\n",
    "________________________________________________________________________________"
   ]
  },
  {
   "cell_type": "markdown",
   "metadata": {
    "id": "KYqpssb-yE8a"
   },
   "source": [
    "## (20 points) Hubs and Authorities by Hand\n",
    "\n",
    "Consider the following graph (in adjacency list format):\n",
    "\n",
    "* A: B, D (that is, A links to B and to D)\n",
    "* B: D, E\n",
    "* C: D, E\n",
    "* D: F, G\n",
    "* E: C, D, G, H\n",
    "* F: \n",
    "* G: \n",
    "* H: C, G\n",
    "\n",
    "Find the hub and authority score for each node. Please normalize your final scores so they sum to 1."
   ]
  },
  {
   "cell_type": "markdown",
   "metadata": {
    "id": "n4vm-2xxy6qt"
   },
   "source": [
    "## ANSWER:\n",
    "\n",
    "Let us denote hub score for a particular node A at iteration i as h<sub>i</sub>(A) and authority score for a particular node A at iteration i as a<sub>i</sub>(A).\n",
    "\n",
    "From the given graph we can say that:\n",
    "\n",
    "\n",
    "| Hubs at ith iteration  | Authorities at ith iteration |\n",
    "| ----------- | ----------- |\n",
    "| h<sub>i</sub>(A) = a<sub>i-1</sub>(B) + a<sub>i-1</sub>(D)      | a<sub>i</sub>(A) = 0        |\n",
    "| h<sub>i</sub>(B) =  a<sub>i-1</sub>(D) + a<sub>i-1</sub>(E)     | a<sub>i</sub>(B) = h<sub>i-1</sub>(A)     |\n",
    "|h<sub>i</sub>(C) =  a<sub>i-1</sub>(D) + a<sub>i-1</sub>(E) |a<sub>i</sub>(C) = h<sub>i-1</sub>(E)+ h<sub>i-1</sub>(H)|\n",
    "|h<sub>i</sub>(D) =  a<sub>i-1</sub>(F) + a<sub>i-1</sub>(G)  |a<sub>i</sub>(D) = h<sub>i-1</sub>(B)+ h<sub>i-1</sub>(C)+h<sub>i-1</sub>(E)+ h<sub>i-1</sub>(A)|\n",
    "|h<sub>i</sub>(E) = a<sub>i-1</sub>(C) + a<sub>i-1</sub>(D) + a<sub>i-1</sub>(G)  + a<sub>i-1</sub>(H)|a<sub>i</sub>(E) = h<sub>i-1</sub>(B)+ h<sub>i-1</sub>(C)|\n",
    "|h<sub>i</sub>(F) = 0|a<sub>i</sub>(F) = h<sub>i-1</sub>(D)|\n",
    "|h<sub>i</sub>(G) = 0|a<sub>i</sub>(G) = h<sub>i-1</sub>(D)+ h<sub>i-1</sub>(H)+h<sub>i-1</sub>(E)|\n",
    "|h<sub>i</sub>(H) = a<sub>i-1</sub>(C) + a<sub>i-1</sub>(G) |a<sub>i</sub>(H) = h<sub>i-1</sub>(E)|\n",
    "\n",
    "\n",
    "\n",
    "We initialize all values of hubs and authorities to 1 at the 0th iteration:\n",
    "\n",
    "At 0th iteration:\n",
    "\n",
    "| Hubs at 0th iteration  | Authorities at 0th iteration |\n",
    "| ----------- | ----------- |\n",
    "| h<sub>0</sub>(A) =  1   | a<sub>0</sub>(A) =    1    |\n",
    "| h<sub>0</sub>(B) =  1    | a<sub>0</sub>(B) =    1    |\n",
    "|h<sub>0</sub>(C) =  1 |a<sub>0</sub>(C) =    1 |\n",
    "|h<sub>0</sub>(D) = 1  |a<sub>0</sub>(D) =    1|\n",
    "|h<sub>0</sub>(E) =  1|a<sub>0</sub>(E) =   1|\n",
    "|h<sub>0</sub>(F) = 1|a<sub>0</sub>(F) =   1|\n",
    "|h<sub>0</sub>(G) = 1|a<sub></sub>(G) =   1|\n",
    "|h<sub>0</sub>(H) = 1 |a<sub>0</sub>(H) =   1|\n",
    "\n",
    "Then using the graph relations we get:\n",
    "\n",
    "At 1st iteration:\n",
    "\n",
    "\n",
    "| Hubs at 1st iteration  | Authorities at 1st iteration |\n",
    "| ----------- | ----------- |\n",
    "| h<sub>1</sub>(A) = a<sub>0</sub>(B) + a<sub>0</sub>(D)    = 2   | a<sub>1</sub>(A) = 0        |\n",
    "| h<sub>1</sub>(B) =  a<sub>0</sub>(D) + a<sub>0</sub>(E)    = 2 | a<sub>1</sub>(B) = h<sub>0</sub>(A) =1    |\n",
    "|h<sub>1</sub>(C) =  a<sub>0</sub>(D) + a<sub>0</sub>(E) = 2|a<sub>1</sub>(C) = h<sub>0</sub>(E)+ h<sub>0</sub>(H)=2|\n",
    "|h<sub>1</sub>(D) =  a<sub>0</sub>(F) + a<sub>0</sub>(G) = 2 |a<sub>1</sub>(D) = h<sub>0</sub>(B)+ h<sub>0</sub>(C)+h<sub>0</sub>(E)+ h<sub>0</sub>(A) = 4|\n",
    "|h<sub>1</sub>(E) = a<sub>0</sub>(C) + a<sub>0</sub>(D) + a<sub>0</sub>(G)  + a<sub>0</sub>(H) = 4|a<sub>1</sub>(E) = h<sub>0</sub>(B)+ h<sub>0</sub>(C) = 2|\n",
    "|h<sub>1</sub>(F) = 0|a<sub>1</sub>(F) = h<sub>0</sub>(D) = 1|\n",
    "|h<sub>1</sub>(G) = 0|a<sub>1</sub>(G) = h<sub>0</sub>(D)+ h<sub>0</sub>(H)+h<sub>0</sub>(E) = 3|\n",
    "|h<sub>1</sub>(H) = a<sub>0</sub>(C) + a<sub>0</sub>(G) = 2|a<sub>1</sub>(H) = h<sub>0</sub>(E) = 1|\n",
    "\n",
    "At 2nd Iteration:\n",
    "\n",
    "| Hubs at 2nd iteration  | Authorities at 2nd iteration |\n",
    "| ----------- | ----------- |\n",
    "| h<sub>2</sub>(A) = a<sub>1</sub>(B) + a<sub>1</sub>(D)  = 5    | a<sub>2</sub>(A) = 0        |\n",
    "| h<sub>2</sub>(B) =  a<sub>1</sub>(D) + a<sub>1</sub>(E) = 6    | a<sub>2</sub>(B) = h<sub>1</sub>(A) = 2    |\n",
    "|h<sub>2</sub>(C) =  a<sub>1</sub>(D) + a<sub>1</sub>(E) = 6 |a<sub>2</sub>(C) = h<sub>1</sub>(E)+ h<sub>1</sub>(H) = 6|\n",
    "|h<sub>2</sub>(D) =  a<sub>1</sub>(F) + a<sub>1</sub>(G) = 4 |a<sub>2</sub>(D) = h<sub>1</sub>(B)+ h<sub>1</sub>(C)+h<sub>1</sub>(E)+ h<sub>1</sub>(A) = 10|\n",
    "|h<sub>2</sub>(E) = a<sub>1</sub>(C) + a<sub>1</sub>(D) + a<sub>1</sub>(G)  + a<sub>1</sub>(H) = 10|a<sub>2</sub>(E) = h<sub>1</sub>(B)+ h<sub>1</sub>(C) = 4|\n",
    "|h<sub>2</sub>(F) = 0|a<sub>2</sub>(F) = h<sub>1</sub>(D) = 2|\n",
    "|h<sub>2</sub>(G) = 0|a<sub>2</sub>(G) = h<sub>1</sub>(D)+ h<sub>1</sub>(H)+h<sub>1</sub>(E) = 8|\n",
    "|h<sub>2</sub>(H) = a<sub>1</sub>(C) + a<sub>1</sub>(G) = 5 |a<sub>2</sub>(H) = h<sub>1</sub>(E) = 4|\n",
    "\n",
    "\n",
    "At 3rd Iteration:\n",
    "\n",
    "| Hubs at 3rd iteration  | Authorities at 3rd iteration |\n",
    "| ----------- | ----------- |\n",
    "| h<sub>3</sub>(A) = a<sub>2</sub>(B) + a<sub>2</sub>(D)  = 12    | a<sub>3</sub>(A) = 0        |\n",
    "| h<sub>3</sub>(B) =  a<sub>2</sub>(D) + a<sub>2</sub>(E) = 14    | a<sub>3</sub>(B) = h<sub>2</sub>(A) = 5    |\n",
    "|h<sub>3</sub>(C) =  a<sub>2</sub>(D) + a<sub>2</sub>(E) = 14 |a<sub>3</sub>(C) = h<sub>2</sub>(E)+ h<sub>2</sub>(H) = 15|\n",
    "|h<sub>3</sub>(D) =  a<sub>2</sub>(F) + a<sub>2</sub>(G) = 10 |a<sub>3</sub>(D) = h<sub>2</sub>(B)+ h<sub>2</sub>(C)+h<sub>2</sub>(E)+ h<sub>2</sub>(A) = 27|\n",
    "|h<sub>3</sub>(E) = a<sub>2</sub>(C) + a<sub>2</sub>(D) + a<sub>2</sub>(G)  + a<sub>2</sub>(H) = 28|a<sub>3</sub>(E) = h<sub>2</sub>(B)+ h<sub>2</sub>(C) = 12|\n",
    "|h<sub>3</sub>(F) = 0|a<sub>3</sub>(F) = h<sub>2</sub>(D) = 4|\n",
    "|h<sub>3</sub>(G) = 0|a<sub>3</sub>(G) = h<sub>2</sub>(D)+ h<sub>2</sub>(H)+h<sub>2</sub>(E) = 19|\n",
    "|h<sub>3</sub>(H) = a<sub>2</sub>(C) + a<sub>2</sub>(G) = 14 |a<sub>3</sub>(H) = h<sub>2</sub>(E) = 10|\n",
    "\n",
    "\n",
    "At 4th Iteration:\n",
    "\n",
    "\n",
    "\n",
    "| Hubs at 4th iteration  | Authorities at 4th iteration |\n",
    "| ----------- | ----------- |\n",
    "| h<sub>4</sub>(A) = a<sub>3</sub>(B) + a<sub>3</sub>(D)  = 32    | a<sub>4</sub>(A) = 0        |\n",
    "| h<sub>4</sub>(B) =  a<sub>3</sub>(D) + a<sub>3</sub>(E) = 39    | a<sub>4</sub>(B) = h<sub>3</sub>(A) = 12    |\n",
    "|h<sub>4</sub>(C) =  a<sub>3</sub>(D) + a<sub>3</sub>(E) = 39 |a<sub>4</sub>(C) = h<sub>3</sub>(E)+ h<sub>3</sub>(H) = 42|\n",
    "|h<sub>4</sub>(D) =  a<sub>3</sub>(F) + a<sub>3</sub>(G) = 23 |a<sub>4</sub>(D) = h<sub>3</sub>(B)+ h<sub>3</sub>(C)+h<sub>3</sub>(E)+ h<sub>3</sub>(A) = 68|\n",
    "|h<sub>4</sub>(E) = a<sub>3</sub>(C) + a<sub>3</sub>(D) + a<sub>3</sub>(G)  + a<sub>3</sub>(H) = 71|a<sub>4</sub>(E) = h<sub>3</sub>(B)+ h<sub>3</sub>(C) = 28|\n",
    "|h<sub>4</sub>(F) = 0|a<sub>4</sub>(F) = h<sub>3</sub>(D) = 10|\n",
    "|h<sub>4</sub>(G) = 0|a<sub>4</sub>(G) = h<sub>3</sub>(D)+ h<sub>3</sub>(H)+h<sub>3</sub>(E) = 52|\n",
    "|h<sub>4</sub>(H) = a<sub>3</sub>(C) + a<sub>3</sub>(G) = 34 |a<sub>4</sub>(H) = h<sub>3</sub>(E) = 28|\n",
    "\n",
    "Taking Normalized values we get:\n",
    "\n",
    "| Hubs at 4th iteration  | Authorities at 4th iteration |\n",
    "| ----------- | ----------- |\n",
    "| h<sub>4</sub>(A) =  32/238 = 0.1344   | a<sub>4</sub>(A) =    0/240 = 0   |\n",
    "| h<sub>4</sub>(B) =  39/238 = 0.1638   | a<sub>4</sub>(B) =    12/240  = 0.05  |\n",
    "|h<sub>4</sub>(C) =  39/238 = 0.1638 |a<sub>4</sub>(C) =   42/240 = 0.175 |\n",
    "|h<sub>4</sub>(D) = 23/238 = 0.0966 |a<sub>4</sub>(D) =   68/240 = 0.2833 |\n",
    "|h<sub>4</sub>(E) =  71/238 = 0.2983|a<sub>4</sub>(E) =   28/240 = 0.1166  |\n",
    "|h<sub>4</sub>(F) = 0/238 = 0|a<sub>4</sub>(F) =   10/240 = 0.0416 |\n",
    "|h<sub>4</sub>(G) = 0/238 = 0|a<sub></sub>(G) =   52/240 = 0.2166 |\n",
    "|h<sub>4</sub>(H) = 34/238 = 0.1428 |a<sub>4</sub>(H) =   28/240 = 0.1166 |\n"
   ]
  },
  {
   "cell_type": "markdown",
   "metadata": {
    "id": "9hxh70yrxS50"
   },
   "source": [
    "## (25 points) LSH Problems from the Book\n",
    "\n",
    "From MMDS [Chapter 3](http://infolab.stanford.edu/~ullman/mmds/ch3n.pdf), do the following problems:\n",
    "\n",
    "* Exercise 3.1.2 (Page 78)\n",
    "* Exercise 3.2.2 (Page 81)\n",
    "* Exercise 3.3.3 (Page 90)\n",
    "* Exercise 3.4.1 (Page 96)\n",
    "* Exercise 3.4.2 (Page 96)\n",
    "\n",
    "Please add cells below with your answers (explanation and detail of calculation are required). \n"
   ]
  },
  {
   "cell_type": "markdown",
   "metadata": {
    "id": "KgUiAuT_1Fqc"
   },
   "source": [
    "\n",
    "\n",
    "### Exercise 3.1.2 (Page 78)\n",
    "\n",
    "### ANSWER:\n",
    "\n",
    "Given:\n",
    "\n",
    "A = {1, 1, 1, 2}, B = {1, 1, 2, 2, 3}, C = {1, 2, 3, 4} \n",
    "\n",
    "Now:\n",
    "\n",
    "(A $\\cup$ B) = {1,1,1,2,1,1,2,2,3} \n",
    "\n",
    "(A $\\cap$ B) = {1,1,2} \n",
    "\n",
    "(B $\\cup$  C) =  {1,1,2,2,3,1,2,3,4}\n",
    "\n",
    "(A $\\cap$  B) =  {1,2,3}\n",
    "\n",
    "(A $\\cup$  C) = {1,1,1,2,1,2,3,4} \n",
    "\n",
    "(A $\\cap$  C) = {1,2} \n",
    "\n",
    "Let Jaccard similarities of A and B be denoted by J(A,B)\n",
    "\n",
    "Then the Jaccard similarities are as follows:\n",
    "\n",
    "J(A,B) = |A $\\cap$  B| / |A$\\cup$ B|\n",
    "\n",
    "$~~~~~~~~~$ =  3/9 = 1/3 \n",
    "\n",
    "J(B,C) = |B $\\cap$  C| / ||A$\\cup$  B|\n",
    "\n",
    "$~~~~~~~~~$ =  3/9 = 1/3 \n",
    "\n",
    "J(A,C) = |A $\\cap$ C| / |A $\\cup$  C| \n",
    "\n",
    "$~~~~~~~~~$ =  2/8 = 1/4 \n",
    "\n",
    "---------------------------------------------------------------------------\n",
    "\n",
    "\n",
    "\n",
    "\n"
   ]
  },
  {
   "cell_type": "markdown",
   "metadata": {
    "id": "fhWUXErLfxrH"
   },
   "source": [
    "### Exercise 3.2.2 (Page 81)\n",
    "\n",
    "### ANSWER\n",
    "\n",
    "Given the following sentence:\n",
    "\n",
    "\"The most effective way to represent documents as sets, for the purpose of identifying lexically similar documents is to construct from the document the set of short strings that appear within it.\"\n",
    "\n",
    "The stop words are defined as any word with word length less than 3.\n",
    "\n",
    "Then the stop words in this sentence are: \n",
    "\n",
    "The, way, to, as, for, the, of, is, to, the, the, set, of, it\n",
    "\n",
    "Shingles are the stop words combined with the successive 2 words in the sentence. Then the shingles in the sentence are:\n",
    "\n",
    "1. The most effective\n",
    "2. way to represent\n",
    "3. to represent documents \n",
    "4. as sets for \n",
    "5. for the purpose \n",
    "6. the purpose of \n",
    "7. of identifying lexically \n",
    "8. is to construct \n",
    "9. to construct from \n",
    "10. the document the \n",
    "11. the set of \n",
    "12. set of short \n",
    "13. of short strings\n",
    "\n",
    "A total of 13 shingles are present\n",
    "\n",
    "\\\\\n",
    "\n",
    "______________________________________________________________________________"
   ]
  },
  {
   "cell_type": "markdown",
   "metadata": {
    "id": "gOpLRWEMfxvk"
   },
   "source": [
    "### Exercise 3.3.3 (Page 90)\n",
    "\n",
    "### ANSWER (a)\n",
    "\n",
    "Given:\n",
    "\n",
    "$h_1(x)=(2x+1)mod$ 6\n",
    "\n",
    "$h_2(x)=(3x+2)mod$ 6\n",
    "\n",
    "$h_3(x)=(5x+2)mod$ 6\n",
    "\n",
    "Then we have our matrix as:\n",
    "\n",
    " Element | $s_1$ |$s_2$ |$s_3$ | $s_4$ | $h_1$ | $h_2$ | $h_3$ |\n",
    " --- |--- | --- | --- | ---| --- | --- | --- |\n",
    " 0 | 0 | 1 | 0 | 1 |  1 | 2 | 2\n",
    " 1 | 0 | 1 | 0 | 0 |  3 | 5 | 1\n",
    " 2 | 1 | 0 | 0 | 1 |   5 | 2 | 0\n",
    " 3 | 0 | 0 | 1 | 0 |  1 | 5 | 5\n",
    " 4 | 0 | 0 | 1 | 1 | 3 | 2 | 4\n",
    " 5 | 1 | 0 | 0 | 0 | 5 | 5 | 3\n",
    "\n",
    "\n",
    "\n",
    "And following is our Minhash signature matrix:\n",
    "\n",
    "\n",
    ". |$s_1$ |$s_2$ |$s_3$ | $s_4$ |\n",
    "--- |--- | --- | --- | ---|\n",
    " $h_1$ | 5 | 1 | 1 | 1\n",
    "$h_2$ | 2 | 2 | 2 | 2\n",
    "$h_3$ | 0 | 1 | 4 | 0\n",
    "\n",
    "\n",
    "\n",
    "\n",
    "\n",
    "### ANSWER (b)\n",
    "\n",
    "From the values of $h_3(x)$ we can see that it is a true permutation function amongst the 3 given functions as its values are unique.\n",
    "\n",
    "\n",
    "\n",
    "\n",
    "\n",
    "\n",
    "### ANSWER (c)\n",
    "\n",
    "Let the estimated Jaccard similarity of (A, B) be $J_a(A,B)$ and the true Jaccard similarity of (A, B) be $J_b(A,B)$\n",
    "\n",
    "\n",
    "Estimated jaccard similarities are as follows:\n",
    "\n",
    "$~~~~~~~~~~~~~~~~~~~~~~~~~~~~~~~~~~~~~~~$ $~~~~~~~~~~~~~~~~~~~~~~~~~~~~~~~~~~~~~~~$ $J_a(s_1,s_2)$ = 1/3 \n",
    "\n",
    "$~~~~~~~~~~~~~~~~~~~~~~~~~~~~~~~~~~~~~~~$ $~~~~~~~~~~~~~~~~~~~~~~~~~~~~~~~~~~~~~~~$  $J_a(s_2,s_3)$ = 2/3 \n",
    "\n",
    "$~~~~~~~~~~~~~~~~~~~~~~~~~~~~~~~~~~~~~~~$ $~~~~~~~~~~~~~~~~~~~~~~~~~~~~~~~~~~~~~~~$  $J_a(s_3,s_4)$ = 2/3 \n",
    "\n",
    "$~~~~~~~~~~~~~~~~~~~~~~~~~~~~~~~~~~~~~~~$ $~~~~~~~~~~~~~~~~~~~~~~~~~~~~~~~~~~~~~~~$ $J_a(s_1,s_4)$ = 2/3 \n",
    "\n",
    "$~~~~~~~~~~~~~~~~~~~~~~~~~~~~~~~~~~~~~~~$ $~~~~~~~~~~~~~~~~~~~~~~~~~~~~~~~~~~~~~~~$ $J_a(s_2,s_4)$ = 2/3 \n",
    "\n",
    "$~~~~~~~~~~~~~~~~~~~~~~~~~~~~~~~~~~~~~~~$ $~~~~~~~~~~~~~~~~~~~~~~~~~~~~~~~~~~~~~~~$ $J_a(s_1,s_3)$ = 1/3 \n",
    "\n",
    "\n",
    "True jaccard similarities are as follows:\n",
    "\n",
    "$~~~~~~~~~~~~~~~~~~~~~~~~~~~~~~~~~~~~~~~$ $~~~~~~~~~~~~~~~~~~~~~~~~~~~~~~~~~~~~~~~$ $J_b(s_1,s_2)$ = 0 \n",
    "\n",
    "$~~~~~~~~~~~~~~~~~~~~~~~~~~~~~~~~~~~~~~~$ $~~~~~~~~~~~~~~~~~~~~~~~~~~~~~~~~~~~~~~~$ $J_b(s_2,s_3)$ = 0 \n",
    "\n",
    " $~~~~~~~~~~~~~~~~~~~~~~~~~~~~~~~~~~~~~~~$ $~~~~~~~~~~~~~~~~~~~~~~~~~~~~~~~~~~~~~~~$ $J_b(s_3,s_4)$ = 1/4 \n",
    "\n",
    " $~~~~~~~~~~~~~~~~~~~~~~~~~~~~~~~~~~~~~~~$ $~~~~~~~~~~~~~~~~~~~~~~~~~~~~~~~~~~~~~~~$ $J_b(s_1,s_4)$ = 1/4 \n",
    "\n",
    "$~~~~~~~~~~~~~~~~~~~~~~~~~~~~~~~~~~~~~~~$ $~~~~~~~~~~~~~~~~~~~~~~~~~~~~~~~~~~~~~~~$ $J_b(s_2,s_4)$ = 1/4 \n",
    "\n",
    "$~~~~~~~~~~~~~~~~~~~~~~~~~~~~~~~~~~~~~~~$ $~~~~~~~~~~~~~~~~~~~~~~~~~~~~~~~~~~~~~~~$ $J_b(s_1,s_3)$ = 0 \n",
    "\n",
    "\n",
    "Thus we can see that the Estimated jaccard similarities and True jaccard similarities are not close to each other. The possible reason for this could be the choice of our hashing functions. Since 2 of them are not true permutations they are not as effective. If we would have chosen all 3 of the hashing functions to be true permutations then we might have obtained better results.\n",
    "\n",
    "\\\\\n",
    "\n",
    " ____________________________________________________________________________"
   ]
  },
  {
   "cell_type": "markdown",
   "metadata": {
    "id": "j33BzILTjZaG"
   },
   "source": [
    "### Exercise 3.4.1 (Page 96)\n",
    "\n",
    "### ANSWER:\n",
    "\n",
    "Given: \n",
    "\n",
    "The S-curve:   $1 - (1-s^r)^b$\n",
    "\n",
    "Values of s:  0.1, 0.2, . . . , 0.9, for\n",
    "the following values of r and b:\n",
    "\n",
    "• r = 3 and b = 10.\n",
    "\n",
    "• r = 6 and b = 20.\n",
    "\n",
    "• r = 5 and b = 50.\n",
    "\n",
    "Following are the plots of the S-curves:\n"
   ]
  },
  {
   "cell_type": "code",
   "execution_count": 34,
   "metadata": {
    "colab": {
     "base_uri": "https://localhost:8080/",
     "height": 1000
    },
    "id": "kb3d5dEAnb-w",
    "outputId": "29af9e82-2382-410c-ef86-39ec79ebdcf4"
   },
   "outputs": [
    {
     "name": "stdout",
     "output_type": "stream",
     "text": [
      "Following are the values of probabilities and the plots of the S-curves:\n",
      "\n",
      "\n",
      "\n",
      "Calculated values for r = 3 and b = 10\n",
      "\n",
      "  s  Probability\n",
      "0.1     0.009955\n",
      "0.2     0.077181\n",
      "0.3     0.239449\n",
      "0.4     0.483871\n",
      "0.5     0.736924\n",
      "0.6     0.912267\n",
      "0.7     0.985015\n",
      "0.8     0.999234\n",
      "0.9     0.999998\n",
      "\n",
      "\n"
     ]
    },
    {
     "data": {
      "image/png": "[encoded data removed]",
      "text/plain": [
       "<Figure size 432x288 with 1 Axes>"
      ]
     },
     "metadata": {
      "needs_background": "light"
     },
     "output_type": "display_data"
    },
    {
     "name": "stdout",
     "output_type": "stream",
     "text": [
      "\n",
      "\n",
      "\n",
      "Calculated values for r = 6 and b = 20\n",
      "\n",
      "  s  Probability\n",
      "0.1     0.000020\n",
      "0.2     0.001279\n",
      "0.3     0.014479\n",
      "0.4     0.078809\n",
      "0.5     0.270187\n",
      "0.6     0.615415\n",
      "0.7     0.918186\n",
      "0.8     0.997712\n",
      "0.9     1.000000\n",
      "\n",
      "\n"
     ]
    },
    {
     "data": {
      "image/png": "[encoded data removed]",
      "text/plain": [
       "<Figure size 432x288 with 1 Axes>"
      ]
     },
     "metadata": {
      "needs_background": "light"
     },
     "output_type": "display_data"
    },
    {
     "name": "stdout",
     "output_type": "stream",
     "text": [
      "\n",
      "\n",
      "\n",
      "Calculated values for r = 5 and b = 50\n",
      "\n",
      "  s  Probability\n",
      "0.1     0.000500\n",
      "0.2     0.015875\n",
      "0.3     0.114540\n",
      "0.4     0.402284\n",
      "0.5     0.795551\n",
      "0.6     0.982534\n",
      "0.7     0.999899\n",
      "0.8     1.000000\n",
      "0.9     1.000000\n",
      "\n",
      "\n"
     ]
    },
    {
     "data": {
      "image/png": "[encoded data removed]",
      "text/plain": [
       "<Figure size 432x288 with 1 Axes>"
      ]
     },
     "metadata": {
      "needs_background": "light"
     },
     "output_type": "display_data"
    }
   ],
   "source": [
    "import matplotlib.pyplot as plt\n",
    "import pandas as pd\n",
    "s_values = [0.1, 0.2, 0.3, 0.4, 0.5, 0.6, 0.7, 0.8, 0.9]\n",
    "\n",
    "r_values = [3, 6, 5]\n",
    "\n",
    "b_values = [10, 20, 50]\n",
    "\n",
    "print (\"Following are the values of probabilities and the plots of the S-curves:\")\n",
    "for r,b in zip(r_values,b_values):\n",
    "  table=[]\n",
    "  output=[]\n",
    "  for s in s_values:\n",
    "    prob_calculated=1-pow((1-pow(s,r)),b)\n",
    "    output.append(prob_calculated)\n",
    "\n",
    "    table.append([s,prob_calculated])\n",
    "  print (\"\\n\")\n",
    "  print (\"\\nCalculated values for r = {} and b = {}\\n\".format(r,b))\n",
    "  df = pd.DataFrame(table, columns = ['s','Probability'])\n",
    "\n",
    "  print(df.to_string(index=False))\n",
    "  print (\"\\n\")\n",
    "\n",
    "  \n",
    "  plt.plot(s_values, output)\n",
    "  plt.xlabel(\"Jaccard Similarity\")\n",
    "  plt.ylabel(\"Probability of becoming a candidate\")\n",
    "  plt.title(\"S-curve for r = {} and b = {}\".format(r,b))\n",
    "  plt.show()\n",
    "\n"
   ]
  },
  {
   "cell_type": "markdown",
   "metadata": {
    "id": "wN8jx1yIxdnI"
   },
   "source": [
    "### Exercise 3.4.2\n",
    "\n",
    "### ANSWER:\n",
    "\n",
    "Given: \n",
    "\n",
    "The S-curve:   $1 - (1-s^r)^b$\n",
    "\n",
    "then at:  $1 - (1-s^r)^b = 1/2$\n",
    "\n",
    " $=> s=(1-(1/2)^{(1/b)})^{(1/r)}$\n",
    "\n",
    "The estimated value:  $(1/b)^{(1/r)}$"
   ]
  },
  {
   "cell_type": "code",
   "execution_count": 29,
   "metadata": {
    "colab": {
     "base_uri": "https://localhost:8080/"
    },
    "id": "phkUfoFhmOvc",
    "outputId": "3cf94d20-47ad-4098-f2d1-681ac1f8e0c0"
   },
   "outputs": [
    {
     "name": "stdout",
     "output_type": "stream",
     "text": [
      "For the values, r = 3, b = 10, we get: \n",
      "S-value at 0.5:\n",
      " 0.4060881340677083\n",
      "Estimated value:\n",
      " 0.4641588833612779\n",
      "\n",
      "For the values, r = 6, b = 20, we get: \n",
      "S-value at 0.5:\n",
      " 0.5693533868256982\n",
      "Estimated value:\n",
      " 0.6069622310029172\n",
      "\n",
      "For the values, r = 5, b = 50, we get: \n",
      "S-value at 0.5:\n",
      " 0.4243944803687326\n",
      "Estimated value:\n",
      " 0.45730505192732634\n",
      "\n"
     ]
    }
   ],
   "source": [
    "r_values = [3, 6, 5]\n",
    "b_values = [10, 20, 50]\n",
    "\n",
    "for r,b in zip(r_values,b_values):\n",
    "    s=pow(1 - pow(0.5,(1/b)),(1/r))\n",
    "    estimated_value = (pow((1/b),(1/r)))\n",
    "    print('For the values, r = {}, b = {}, we get: \\nS-value at 0.5:\\n {}\\nEstimated value:\\n {}\\n'.format(r, b, s, estimated_value))"
   ]
  },
  {
   "cell_type": "markdown",
   "metadata": {
    "id": "gAAwDit9Ag20"
   },
   "source": [
    "Thus we can see that the estimated value and the value calculated for s from the equation $1 - (1-s^r)^b = 1/2$ is almost the same and so we can say that the estimation formula for getting an estimated value of the threshold works well.."
   ]
  },
  {
   "cell_type": "code",
   "execution_count": null,
   "metadata": {
    "id": "-fC6FC81ylGV"
   },
   "outputs": [],
   "source": []
  }
 ],
 "metadata": {
  "accelerator": "GPU",
  "colab": {
   "collapsed_sections": [],
   "name": "432001358_hw2.ipynb",
   "provenance": []
  },
  "kernelspec": {
   "display_name": "Python 3",
   "language": "python",
   "name": "python3"
  },
  "language_info": {
   "codemirror_mode": {
    "name": "ipython",
    "version": 3
   },
   "file_extension": ".py",
   "mimetype": "text/x-python",
   "name": "python",
   "nbconvert_exporter": "python",
   "pygments_lexer": "ipython3",
   "version": "3.7.2"
  }
 },
 "nbformat": 4,
 "nbformat_minor": 1
}
